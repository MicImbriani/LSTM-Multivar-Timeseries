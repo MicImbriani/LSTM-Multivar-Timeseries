{
  "nbformat": 4,
  "nbformat_minor": 0,
  "metadata": {
    "kernelspec": {
      "display_name": "Deep Learning2",
      "language": "python",
      "name": "deep_learning"
    },
    "language_info": {
      "codemirror_mode": {
        "name": "ipython",
        "version": 3
      },
      "file_extension": ".py",
      "mimetype": "text/x-python",
      "name": "python",
      "nbconvert_exporter": "python",
      "pygments_lexer": "ipython3",
      "version": "3.7.4"
    },
    "colab": {
      "name": "LSTM.ipynb",
      "provenance": [],
      "collapsed_sections": [],
      "toc_visible": true
    }
  },
  "cells": [
    {
      "cell_type": "markdown",
      "metadata": {
        "id": "V80ejwHT5_vv"
      },
      "source": [
        "https://machinelearningmastery.com/multivariate-time-series-forecasting-lstms-keras/"
      ]
    },
    {
      "cell_type": "code",
      "metadata": {
        "id": "3TJDq3Tv5_v7"
      },
      "source": [
        "# prepare data for lstm\n",
        "import matplotlib.pyplot as plt\n",
        "import numpy as np\n",
        "from math import sqrt\n",
        "from numpy import concatenate\n",
        "from matplotlib import pyplot\n",
        "from pandas import read_csv\n",
        "from pandas import DataFrame\n",
        "from pandas import concat\n",
        "from sklearn.preprocessing import MinMaxScaler\n",
        "from sklearn.preprocessing import LabelEncoder\n",
        "from keras.models import Sequential\n",
        "from keras.layers import Dense\n",
        "from keras.layers import LSTM"
      ],
      "execution_count": 1,
      "outputs": []
    },
    {
      "cell_type": "code",
      "metadata": {
        "id": "bjJ8N4xB5_v9"
      },
      "source": [
        "# https://machinelearningmastery.com/convert-time-series-supervised-learning-problem-python/\n",
        "# convert series to supervised learning\n",
        "def series_to_supervised(data, n_in=1, n_out=1, dropnan=True):\n",
        "    n_vars = 1 if type(data) is list else data.shape[1]\n",
        "    df =  DataFrame(data)\n",
        "    cols, names = list(), list()\n",
        "    # input sequence (t-n, ... t-1)\n",
        "    for i in range(n_in, 0, -1):\n",
        "        cols.append(df.shift(i))\n",
        "        names += [('var%d(t-%d)' % (j+1, i)) for j in range(n_vars)]\n",
        "    # forecast sequence (t, t+1, ... t+n)\n",
        "    for i in range(0, n_out):\n",
        "        cols.append(df.shift(-i))\n",
        "        if i == 0:\n",
        "            names += [('var%d(t)' % (j+1)) for j in range(n_vars)]\n",
        "        else:\n",
        "            names += [('var%d(t+%d)' % (j+1, i)) for j in range(n_vars)]\n",
        "    # put it all together\n",
        "    agg = concat(cols, axis=1)\n",
        "    agg.columns = names\n",
        "    # drop rows with NaN values\n",
        "    if dropnan:\n",
        "        agg.dropna(inplace=True)\n",
        "    return agg"
      ],
      "execution_count": 2,
      "outputs": []
    },
    {
      "cell_type": "code",
      "metadata": {
        "id": "HLHE-1Ts5_v-"
      },
      "source": [
        "# load dataset\n",
        "dataset = read_csv('SeoulBikeData.csv', encoding= 'unicode_escape', header=0, index_col=0)\n",
        "\n",
        "# bikes = dataset['Rented Bike Count']\n",
        "# dataset = dataset.drop(columns=['Rented Bike Count'])\n",
        "# dataset.insert(loc=12, column='Rented Bike Count', value=bikes)\n",
        "\n",
        "\n",
        "values = dataset.values"
      ],
      "execution_count": 3,
      "outputs": []
    },
    {
      "cell_type": "code",
      "metadata": {
        "id": "7xztLdIb5_v-"
      },
      "source": [
        "# encode the categorical variables into integers\n",
        "label_encoder = LabelEncoder()\n",
        "values[:,12] = label_encoder.fit_transform(values[:,12])\n",
        "values[:,10] = label_encoder.fit_transform(values[:,10])\n",
        "values[:,11] = label_encoder.fit_transform(values[:,11])"
      ],
      "execution_count": 4,
      "outputs": []
    },
    {
      "cell_type": "code",
      "metadata": {
        "id": "GnaVTr5S5_v_"
      },
      "source": [
        "# ensure all data is float\n",
        "values = values.astype('float32')\n",
        "# normalize features\n",
        "scaler = MinMaxScaler(feature_range=(0, 1))\n",
        "scaled = scaler.fit_transform(values)"
      ],
      "execution_count": 5,
      "outputs": []
    },
    {
      "cell_type": "code",
      "metadata": {
        "id": "TeW8deHi5_v_"
      },
      "source": [
        "# # frame as supervised learning\n",
        "# reframed = series_to_supervised(scaled, 23, 1)\n",
        "# # drop columns we don't want to predict\n",
        "# #reframed.drop(reframed.columns[[number,of,columns]], axis=1, inplace=True)\n",
        "# print(reframed.head())"
      ],
      "execution_count": 6,
      "outputs": []
    },
    {
      "cell_type": "code",
      "metadata": {
        "id": "YM32xHas5_wA"
      },
      "source": [
        "# frame as supervised learning\n",
        "hours_to_consider = 23\n",
        "reframed = series_to_supervised(scaled, hours_to_consider, 1)\n",
        "#reframed.reset_index(drop=True, inplace=True)\n",
        "# drop columns we don't want to predict\n",
        "# columns_to_keep = list()\n",
        "# for i in range(15,reframed.shape[1]+1,13):\n",
        "#     columns_to_keep.append(i)\n",
        "# print(columns_to_keep)\n",
        "# x = 11\n",
        "# n_cols = [i for i in range (13, 216+1)]\n",
        "# for i in columns_to_keep:\n",
        "#     n_cols.remove(i)\n",
        "# n_cols = [x - 1 for x in n_cols]\n",
        "# reframed.drop(reframed.columns[[n_cols]], axis=1, inplace=True)\n",
        "# print(reframed.columns)\n",
        "# print(reframed.head())"
      ],
      "execution_count": 7,
      "outputs": []
    },
    {
      "cell_type": "code",
      "metadata": {
        "id": "dUQgR2Ue5_wB"
      },
      "source": [
        "# split into train and test sets\n",
        "values = reframed.values\n",
        "train_ratio = 0.9\n",
        "test_ratio = 1 - train_ratio\n",
        "n_train_hours = int(365 * 24 * 0.9)\n",
        "\n",
        "train = values[:n_train_hours, :]\n",
        "test = values[n_train_hours:, :]\n",
        "\n",
        "# split into input and outputs\n",
        "train_X, train_y = train[:, 1:], train[:, 0]\n",
        "test_X, test_y = test[:, 1:], test[:, 0]"
      ],
      "execution_count": 8,
      "outputs": []
    },
    {
      "cell_type": "code",
      "metadata": {
        "id": "r82ZRX7w_vzp",
        "colab": {
          "base_uri": "https://localhost:8080/"
        },
        "outputId": "228c1f2e-6870-4ff7-c595-037380a0cd89"
      },
      "source": [
        "# reshape input to be 3D [samples, timesteps, features]\n",
        "train_X = train_X.reshape((train_X.shape[0], 1, train_X.shape[1]))\n",
        "test_X = test_X.reshape((test_X.shape[0], 1, test_X.shape[1]))\n",
        "print(train_X.shape, train_y.shape, test_X.shape, test_y.shape)"
      ],
      "execution_count": 9,
      "outputs": [
        {
          "output_type": "stream",
          "text": [
            "(7884, 1, 311) (7884,) (853, 1, 311) (853,)\n"
          ],
          "name": "stdout"
        }
      ]
    },
    {
      "cell_type": "code",
      "metadata": {
        "id": "dcWBXXCA5_wC"
      },
      "source": [
        "from keras.models import Sequential\n",
        "from keras.layers import Dense\n",
        "from keras.layers import LSTM\n",
        "from keras.layers import BatchNormalization\n",
        "from keras.optimizers import SGD\n",
        "\n",
        "from keras.metrics import MeanSquaredError\n",
        "from keras.metrics import RootMeanSquaredError\n",
        "from keras.metrics import MeanAbsoluteError\n",
        "from sklearn.metrics import r2_score, mean_squared_error, mean_absolute_error\n",
        "\n",
        "def adj_r2(r2):\n",
        "  n = train_X.shape[0]\n",
        "  p = train_X.shape[2]\n",
        "  return (1-(1-r2)*(n-1)/(n-p-1))"
      ],
      "execution_count": 10,
      "outputs": []
    },
    {
      "cell_type": "code",
      "metadata": {
        "colab": {
          "base_uri": "https://localhost:8080/",
          "height": 575
        },
        "id": "V8AD4j1dKhys",
        "outputId": "3986f6a7-1f59-4418-a7d4-4428dfa0146b"
      },
      "source": [
        "# design network\n",
        "model = Sequential()\n",
        "model.add(LSTM(50, input_shape=(train_X.shape[1], train_X.shape[2])))\n",
        "model.add(BatchNormalization(axis=-1, \n",
        "                            momentum=0.99,\n",
        "                            epsilon=0.001,\n",
        "                            center=True,\n",
        "                            scale=True,\n",
        "                            beta_initializer='zeros',\n",
        "                            gamma_initializer='ones',\n",
        "                            moving_mean_initializer='zeros',\n",
        "                            moving_variance_initializer='ones',\n",
        "                            beta_regularizer=None,\n",
        "                            gamma_regularizer=None,\n",
        "                            beta_constraint=None,\n",
        "                            gamma_constraint=None\n",
        "                            ))\n",
        "model.add(Dense(1))\n",
        "\n",
        "model.compile(loss='mae',\n",
        "              optimizer=SGD(lr=0.01),\n",
        "              metrics=[\"accuracy\", \n",
        "                       MeanSquaredError(), \n",
        "                       RootMeanSquaredError(),\n",
        "                       MeanAbsoluteError()])\n",
        "\n",
        "# fit network\n",
        "history = model.fit(train_X, \n",
        "                    train_y,\n",
        "                    validation_split=0.15,\n",
        "                    epochs=50,\n",
        "                    batch_size=60,\n",
        "                    verbose=2,\n",
        "                    shuffle=False)\n",
        "\n",
        "# plot history\n",
        "pyplot.plot(history.history['loss'], label='train')\n",
        "pyplot.plot(history.history['val_loss'], label='test')\n",
        "pyplot.legend()\n",
        "pyplot.show()\n",
        "\n",
        "# make a prediction\n",
        "yhat = model.predict(test_X)\n",
        "test_X = test_X.reshape((test_X.shape[0], test_X.shape[2]))\n",
        "\n",
        "# invert scaling for forecast\n",
        "oi = np.random.randint(1,101,size=(853,12))\n",
        "inv_yhat = concatenate((yhat, oi), axis=1)\n",
        "print(inv_yhat.shape)\n",
        "inv_yhat = scaler.inverse_transform(inv_yhat)\n",
        "inv_yhat = inv_yhat[:,0]\n",
        "\n",
        "# invert scaling for actual\n",
        "test_y = test_y.reshape((len(test_y), 1))\n",
        "inv_y = concatenate((test_y, oi), axis=1)\n",
        "inv_y = scaler.inverse_transform(inv_y)\n",
        "inv_y = inv_y[:,0]\n",
        "\n",
        "# calculate R2\n",
        "r2 = r2_score(inv_y, inv_yhat)\n",
        "adj_r2 = adj_r2(r2)\n",
        "print('Test R2: %.3f' % r2)\n",
        "print('Test ADJ R2: %.3f' % adj_r2)"
      ],
      "execution_count": 11,
      "outputs": [
        {
          "output_type": "stream",
          "text": [
            "Epoch 1/5\n",
            "112/112 - 3s - loss: 0.2790 - accuracy: 0.0067 - mean_squared_error: 0.1352 - root_mean_squared_error: 0.3677 - mean_absolute_error: 0.2790 - val_loss: 0.1610 - val_accuracy: 0.1479 - val_mean_squared_error: 0.0383 - val_root_mean_squared_error: 0.1957 - val_mean_absolute_error: 0.1610\n",
            "Epoch 2/5\n",
            "112/112 - 0s - loss: 0.1602 - accuracy: 0.0067 - mean_squared_error: 0.0428 - root_mean_squared_error: 0.2069 - mean_absolute_error: 0.1602 - val_loss: 0.1470 - val_accuracy: 0.1479 - val_mean_squared_error: 0.0323 - val_root_mean_squared_error: 0.1798 - val_mean_absolute_error: 0.1470\n",
            "Epoch 3/5\n",
            "112/112 - 0s - loss: 0.1243 - accuracy: 0.0073 - mean_squared_error: 0.0258 - root_mean_squared_error: 0.1606 - mean_absolute_error: 0.1243 - val_loss: 0.1402 - val_accuracy: 0.1479 - val_mean_squared_error: 0.0294 - val_root_mean_squared_error: 0.1716 - val_mean_absolute_error: 0.1402\n",
            "Epoch 4/5\n",
            "112/112 - 0s - loss: 0.1074 - accuracy: 0.0073 - mean_squared_error: 0.0197 - root_mean_squared_error: 0.1403 - mean_absolute_error: 0.1074 - val_loss: 0.1322 - val_accuracy: 0.1479 - val_mean_squared_error: 0.0272 - val_root_mean_squared_error: 0.1651 - val_mean_absolute_error: 0.1322\n",
            "Epoch 5/5\n",
            "112/112 - 0s - loss: 0.0968 - accuracy: 0.0073 - mean_squared_error: 0.0160 - root_mean_squared_error: 0.1263 - mean_absolute_error: 0.0968 - val_loss: 0.1157 - val_accuracy: 0.1479 - val_mean_squared_error: 0.0223 - val_root_mean_squared_error: 0.1494 - val_mean_absolute_error: 0.1157\n"
          ],
          "name": "stdout"
        },
        {
          "output_type": "display_data",
          "data": {
            "image/png": "[encoded data removed]",
            "text/plain": [
              "<Figure size 432x288 with 1 Axes>"
            ]
          },
          "metadata": {
            "tags": [],
            "needs_background": "light"
          }
        },
        {
          "output_type": "stream",
          "text": [
            "(853, 13)\n",
            "Test RMSE: 222743.945\n",
            "Test RMSE2: 471.958\n",
            "Test MAE: 386.564\n",
            "Test R2: 0.087\n",
            "Test ADJ R2: 0.050\n"
          ],
          "name": "stdout"
        }
      ]
    },
    {
      "cell_type": "code",
      "metadata": {
        "colab": {
          "base_uri": "https://localhost:8080/",
          "height": 295
        },
        "id": "zIzPfTiaZ4yu",
        "outputId": "3f63cd27-6538-4704-9c14-812f9d8c68e7"
      },
      "source": [
        "# summarize history for accuracy\n",
        "plt.plot(history.history['accuracy'])\n",
        "plt.plot(history.history['val_accuracy'])\n",
        "plt.title('model accuracy')\n",
        "plt.ylabel('accuracy')\n",
        "plt.xlabel('epoch')\n",
        "plt.legend(['train', 'test'], loc='upper left')\n",
        "plt.show()"
      ],
      "execution_count": 12,
      "outputs": [
        {
          "output_type": "display_data",
          "data": {
            "image/png": "[encoded data removed]",
            "text/plain": [
              "<Figure size 432x288 with 1 Axes>"
            ]
          },
          "metadata": {
            "tags": [],
            "needs_background": "light"
          }
        }
      ]
    }
  ]
}