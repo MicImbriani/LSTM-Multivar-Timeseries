{
 "cells": [
  {
   "cell_type": "markdown",
   "metadata": {},
   "source": [
    "https://machinelearningmastery.com/multivariate-time-series-forecasting-lstms-keras/"
   ]
  },
  {
   "cell_type": "code",
   "execution_count": 1,
   "metadata": {},
   "outputs": [],
   "source": [
    "# prepare data for lstm\n",
    "from pandas import read_csv\n",
    "from pandas import DataFrame\n",
    "from pandas import concat\n",
    "from sklearn.preprocessing import LabelEncoder, OneHotEncoder\n",
    "from sklearn.preprocessing import MinMaxScaler"
   ]
  },
  {
   "cell_type": "code",
   "execution_count": 2,
   "metadata": {},
   "outputs": [],
   "source": [
    "# https://machinelearningmastery.com/convert-time-series-supervised-learning-problem-python/\n",
    "# convert series to supervised learning\n",
    "def series_to_supervised(data, n_in=1, n_out=1, dropnan=True):\n",
    "    n_vars = 1 if type(data) is list else data.shape[1]\n",
    "    df =  DataFrame(data)\n",
    "    cols, names = list(), list()\n",
    "    # input sequence (t-n, ... t-1)\n",
    "    for i in range(n_in, 0, -1):\n",
    "        cols.append(df.shift(i))\n",
    "        names += [('var%d(t-%d)' % (j+1, i)) for j in range(n_vars)]\n",
    "    # forecast sequence (t, t+1, ... t+n)\n",
    "    for i in range(0, n_out):\n",
    "        cols.append(df.shift(-i))\n",
    "        if i == 0:\n",
    "            names += [('var%d(t)' % (j+1)) for j in range(n_vars)]\n",
    "        else:\n",
    "            names += [('var%d(t+%d)' % (j+1, i)) for j in range(n_vars)]\n",
    "    # put it all together\n",
    "    agg = concat(cols, axis=1)\n",
    "    agg.columns = names\n",
    "    # drop rows with NaN values\n",
    "    if dropnan:\n",
    "        agg.dropna(inplace=True)\n",
    "    return agg"
   ]
  },
  {
   "cell_type": "code",
   "execution_count": 3,
   "metadata": {},
   "outputs": [],
   "source": [
    "# load dataset\n",
    "dataset = read_csv('SeoulBikeData2.csv', encoding= 'unicode_escape', header=0, index_col=0)\n",
    "values = dataset.values"
   ]
  },
  {
   "cell_type": "code",
   "execution_count": 4,
   "metadata": {},
   "outputs": [
    {
     "data": {
      "text/plain": [
       "'label_encoder = LabelEncoder()\\none_hot = OneHotEncoder()\\nvalues[:,10] = label_encoder.fit_transform(values[:,10])\\nvalues[:,11] = label_encoder.fit_transform(values[:,11])\\nvalues[:,12] = label_encoder.fit_transform(values[:,12])'"
      ]
     },
     "execution_count": 4,
     "metadata": {},
     "output_type": "execute_result"
    }
   ],
   "source": [
    "# encode the categorical variables into integers\n",
    "'''label_encoder = LabelEncoder()\n",
    "one_hot = OneHotEncoder()\n",
    "values[:,10] = label_encoder.fit_transform(values[:,10])\n",
    "values[:,11] = label_encoder.fit_transform(values[:,11])\n",
    "values[:,12] = label_encoder.fit_transform(values[:,12])'''"
   ]
  },
  {
   "cell_type": "code",
   "execution_count": 5,
   "metadata": {},
   "outputs": [],
   "source": [
    "# ensure all data is float\n",
    "values = values.astype('float32')\n",
    "# normalize features\n",
    "scaler = MinMaxScaler(feature_range=(0, 1))\n",
    "scaled = scaler.fit_transform(values)"
   ]
  },
  {
   "cell_type": "code",
   "execution_count": 6,
   "metadata": {},
   "outputs": [
    {
     "data": {
      "text/plain": [
       "\"reframed = series_to_supervised(scaled_data, past_days_to_consider, number_of_predictions_into_the_future)\\n# drop columns we don't want to predict\\nreframed.drop(reframed.columns[[number,of,columns]], axis=1, inplace=True)\\nprint(reframed.head())\""
      ]
     },
     "execution_count": 6,
     "metadata": {},
     "output_type": "execute_result"
    }
   ],
   "source": [
    "# frame as supervised learning\n",
    "'''reframed = series_to_supervised(scaled_data, past_days_to_consider, number_of_predictions_into_the_future)\n",
    "# drop columns we don't want to predict\n",
    "reframed.drop(reframed.columns[[number,of,columns]], axis=1, inplace=True)\n",
    "print(reframed.head())'''"
   ]
  },
  {
   "cell_type": "markdown",
   "metadata": {},
   "source": [
    "# Test 3:\n",
    "<h1>24 hours\n",
    "    hour1: all parameters,\n",
    "    <p>hour23 to hour24: bike_count\n",
    "</h1>"
   ]
  },
  {
   "cell_type": "code",
   "execution_count": 10,
   "metadata": {},
   "outputs": [
    {
     "name": "stdout",
     "output_type": "stream",
     "text": [
      "Index(['var1(t-23)', 'var2(t-23)', 'var3(t-23)', 'var4(t-23)', 'var5(t-23)',\n",
      "       'var6(t-23)', 'var7(t-23)', 'var8(t-23)', 'var9(t-23)', 'var1(t-22)',\n",
      "       'var2(t-22)', 'var2(t-21)', 'var2(t-20)', 'var2(t-19)', 'var2(t-18)',\n",
      "       'var2(t-17)', 'var2(t-16)', 'var2(t-15)', 'var2(t-14)', 'var2(t-13)',\n",
      "       'var2(t-12)', 'var2(t-11)', 'var2(t-10)', 'var2(t-9)', 'var2(t-8)',\n",
      "       'var2(t-7)', 'var2(t-6)', 'var2(t-5)', 'var2(t-4)', 'var2(t-3)',\n",
      "       'var2(t-2)', 'var2(t-1)', 'var2(t)'],\n",
      "      dtype='object')\n",
      "    var1(t-23)  var2(t-23)  var3(t-23)  var4(t-23)  var5(t-23)  var6(t-23)  \\\n",
      "23    0.000000    0.220280    0.377551    0.297297         1.0    0.224914   \n",
      "24    0.043478    0.215035    0.387755    0.108108         1.0    0.224914   \n",
      "25    0.086957    0.206294    0.397959    0.135135         1.0    0.223183   \n",
      "26    0.130435    0.202797    0.408163    0.121622         1.0    0.224914   \n",
      "27    0.173913    0.206294    0.367347    0.310811         1.0    0.207612   \n",
      "\n",
      "    var7(t-23)  var8(t-23)  var9(t-23)  var1(t-22)  ...  var2(t-9)  var2(t-8)  \\\n",
      "23         0.0         0.0         0.0    0.043478  ...   0.363636   0.347902   \n",
      "24         0.0         0.0         0.0    0.086957  ...   0.347902   0.332168   \n",
      "25         0.0         0.0         0.0    0.130435  ...   0.332168   0.325175   \n",
      "26         0.0         0.0         0.0    0.173913  ...   0.325175   0.321678   \n",
      "27         0.0         0.0         0.0    0.217391  ...   0.321678   0.311189   \n",
      "\n",
      "    var2(t-7)  var2(t-6)  var2(t-5)  var2(t-4)  var2(t-3)  var2(t-2)  \\\n",
      "23   0.332168   0.325175   0.321678   0.311189   0.305944   0.297203   \n",
      "24   0.325175   0.321678   0.311189   0.305944   0.297203   0.295455   \n",
      "25   0.321678   0.311189   0.305944   0.297203   0.295455   0.288462   \n",
      "26   0.311189   0.305944   0.297203   0.295455   0.288462   0.279720   \n",
      "27   0.305944   0.297203   0.295455   0.288462   0.279720   0.272727   \n",
      "\n",
      "    var2(t-1)   var2(t)  \n",
      "23   0.295455  0.288462  \n",
      "24   0.288462  0.279720  \n",
      "25   0.279720  0.272727  \n",
      "26   0.272727  0.260489  \n",
      "27   0.260489  0.250000  \n",
      "\n",
      "[5 rows x 33 columns]\n"
     ]
    }
   ],
   "source": [
    "# frame as supervised learning\n",
    "hours_to_consider = 23\n",
    "reframed = series_to_supervised(scaled, hours_to_consider, 1)\n",
    "# drop columns we don't want to predict\n",
    "columns_to_keep = list()\n",
    "for i in range(10,reframed.shape[1],9):\n",
    "    columns_to_keep.append(i)\n",
    "x = 11\n",
    "n_cols = [i for i in range (10, 216)]\n",
    "for i in columns_to_keep:\n",
    "    n_cols.remove(i)\n",
    "reframed.drop(reframed.columns[[n_cols]], axis=1, inplace=True)\n",
    "print(reframed.columns)\n",
    "print(reframed.head())"
   ]
  }
 ],
 "metadata": {
  "kernelspec": {
   "display_name": "Python 3",
   "language": "python",
   "name": "python3"
  },
  "language_info": {
   "codemirror_mode": {
    "name": "ipython",
    "version": 3
   },
   "file_extension": ".py",
   "mimetype": "text/x-python",
   "name": "python",
   "nbconvert_exporter": "python",
   "pygments_lexer": "ipython3",
   "version": "3.7.4"
  }
 },
 "nbformat": 4,
 "nbformat_minor": 2
}
